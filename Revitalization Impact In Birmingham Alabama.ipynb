{
    "cells": [
        {
            "cell_type": "markdown",
            "metadata": {
                "collapsed": true
            },
            "source": "# Impact of Urban Revitalization In Birmingham Alabama\n\nOver the last ten years there have been urban revitalizations of areas downtown Birmingham Alabama.  In this project I will identifiy the areas where these efforts have been successful."
        },
        {
            "cell_type": "markdown",
            "metadata": {},
            "source": "## Methodology\n\nI will use the Foursquare API to identify clusters of highly trafficed venues.  My theory is that these venue clusters should equate to the revitalization efforts. Along with the Foursquare data I will use data from https://www.bhamwiki.com/w/Operation_New_Birmingham and the Birmingham Business Journal https://www.bizjournals.com/birmingham/ to tie together the venue clusters with revitalization efforts."
        }
    ],
    "metadata": {
        "kernelspec": {
            "display_name": "Python 3.7",
            "language": "python",
            "name": "python3"
        },
        "language_info": {
            "codemirror_mode": {
                "name": "ipython",
                "version": 3
            },
            "file_extension": ".py",
            "mimetype": "text/x-python",
            "name": "python",
            "nbconvert_exporter": "python",
            "pygments_lexer": "ipython3",
            "version": "3.7.9"
        }
    },
    "nbformat": 4,
    "nbformat_minor": 1
}